{
 "cells": [
  {
   "cell_type": "code",
   "execution_count": null,
   "metadata": {},
   "outputs": [],
   "source": [
    "import pickle\n",
    "def read_data():\n",
    "    lst = []\n",
    "    with open(\"X and Y Dataset/x_train.pickle\", \"rb\") as input_file:\n",
    "        lst.append(pickle.load(input_file))\n",
    "    with open(\"X and Y Dataset/y_train.pickle\", \"rb\") as input_file:\n",
    "        lst.append(pickle.load(input_file))\n",
    "    with open(\"X and Y Dataset/x_test.pickle\", \"rb\") as input_file:\n",
    "        lst.append(pickle.load(input_file))\n",
    "    with open(\"X and Y Dataset/y_test.pickle\", \"rb\") as input_file:\n",
    "        lst.append(pickle.load(input_file))\n",
    "    return lst\n",
    "def read_properties():\n",
    "    lst = None\n",
    "    with open('X and Y Dataset/properties.pickle','rb+') as fd:\n",
    "        lst = pickle.load(fd)\n",
    "    return lst\n",
    "#x_train,y_train,x_test,y_test = read_h5()\n",
    "TIME_PERIODS = 80\n",
    "#num_time_periods, num_sensors,num_classes,input_shape = read_properties()\n",
    "LABELS = [\"Downstairs\",\n",
    "          \"Jogging\",\n",
    "          \"Sitting\",\n",
    "          \"Standing\",\n",
    "          \"Upstairs\",\n",
    "          \"Walking\"]"
   ]
  }
 ],
 "metadata": {
  "kernelspec": {
   "display_name": "Python 3",
   "language": "python",
   "name": "python3"
  },
  "language_info": {
   "codemirror_mode": {
    "name": "ipython",
    "version": 3
   },
   "file_extension": ".py",
   "mimetype": "text/x-python",
   "name": "python",
   "nbconvert_exporter": "python",
   "pygments_lexer": "ipython3",
   "version": "3.7.7"
  }
 },
 "nbformat": 4,
 "nbformat_minor": 4
}
