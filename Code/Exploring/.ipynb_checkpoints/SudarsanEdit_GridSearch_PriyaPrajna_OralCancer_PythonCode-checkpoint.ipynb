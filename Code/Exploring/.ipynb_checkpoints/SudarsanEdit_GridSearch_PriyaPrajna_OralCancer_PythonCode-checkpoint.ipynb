{
 "cells": [
  {
   "cell_type": "code",
   "execution_count": 0,
   "metadata": {
    "colab": {},
    "colab_type": "code",
    "id": "6ofS6Qxa2NMR"
   },
   "outputs": [],
   "source": [
    "from google.colab import drive\n",
    "drive.mount('/content/drive')"
   ]
  },
  {
   "cell_type": "code",
   "execution_count": 0,
   "metadata": {
    "colab": {},
    "colab_type": "code",
    "id": "HD2wUfWzwVL-"
   },
   "outputs": [],
   "source": [
    "import pandas as pd\n",
    "import numpy as np\n",
    "import os\n",
    "import glob"
   ]
  },
  {
   "cell_type": "code",
   "execution_count": 0,
   "metadata": {
    "colab": {},
    "colab_type": "code",
    "id": "KepThb_DwVMe"
   },
   "outputs": [],
   "source": [
    "os.chdir('/content/drive/My Drive/Colab Notebooks/Miniprojects/PriyaPrajna')\n",
    "\n",
    "datapath = os.getcwd()+'/Data/'"
   ]
  },
  {
   "cell_type": "code",
   "execution_count": 0,
   "metadata": {
    "colab": {},
    "colab_type": "code",
    "id": "DNehJOnpwVNV"
   },
   "outputs": [],
   "source": [
    "TypeList = [ttype+exttype for ttype in [\"/Malignant*/\", \"/Premalignant*/\",\n",
    "                                             \"/Normal*/\"] for exttype in [\"*PRN\"]]\n",
    "TypeList"
   ]
  },
  {
   "cell_type": "code",
   "execution_count": 0,
   "metadata": {
    "colab": {},
    "colab_type": "code",
    "id": "w4PFxRSxwVNq"
   },
   "outputs": [],
   "source": [
    "df = pd.DataFrame()\n",
    "for ftype in TypeList:   \n",
    "    for file in glob.iglob(datapath + os.path.normpath(ftype)):        \n",
    "        colname = os.path.splitext(os.path.basename(file))[0]   \n",
    "        tempdf = pd.read_csv(file,delim_whitespace=True, usecols=[1], engine='python',\n",
    "                             skipfooter=1, names=('Wavelength', colname),\n",
    "                             dtype={'Wavelength': np.float64, colname: np.float64})        \n",
    "        df = pd.concat([df, tempdf], axis=1)"
   ]
  },
  {
   "cell_type": "code",
   "execution_count": 0,
   "metadata": {
    "colab": {},
    "colab_type": "code",
    "id": "btiS48mwwVN_"
   },
   "outputs": [],
   "source": [
    "df.head()"
   ]
  },
  {
   "cell_type": "code",
   "execution_count": 0,
   "metadata": {
    "colab": {},
    "colab_type": "code",
    "id": "W3p1BXqMwVOZ"
   },
   "outputs": [],
   "source": [
    "df = df.transpose()  #or df.T()\n",
    "df\n",
    "label_classes = [\"M\",\"P\",\"N\"]\n",
    "#print(df.index)\n",
    "df['Label'] = df.index.str[0]\n",
    "df2=df"
   ]
  },
  {
   "cell_type": "code",
   "execution_count": 0,
   "metadata": {
    "colab": {},
    "colab_type": "code",
    "id": "6UlPKImqwVOz"
   },
   "outputs": [],
   "source": [
    "df['Label'] = df['Label'].apply(label_classes.index)"
   ]
  },
  {
   "cell_type": "code",
   "execution_count": 0,
   "metadata": {
    "colab": {},
    "colab_type": "code",
    "id": "otJPxGawwVPV"
   },
   "outputs": [],
   "source": [
    "# distributing the dataset into malignant, premalignant, and normal \n",
    "sample_names = df.index.to_numpy()\n",
    "n_M = df[df.Label == 0].shape[0]\n",
    "n_PM =df[df.Label == 1].shape[0]\n",
    "n_N = df[df.Label == 2].shape[0]\n",
    "n = n_M+n_PM+n_N\n",
    "p = len(df.columns)-1\n",
    "\n",
    "X_M = df.loc[df['Label'] == 0, df.columns != 'Label'].values\n",
    "X_M = np.column_stack((sample_names[df.Label == 0], X_M))\n",
    "X_M"
   ]
  },
  {
   "cell_type": "code",
   "execution_count": 0,
   "metadata": {
    "colab": {},
    "colab_type": "code",
    "id": "8HEDVgcVwVPr"
   },
   "outputs": [],
   "source": [
    "X_PM = df.loc[df['Label'] == 1, df.columns != 'Label']\n",
    "X_PM = np.column_stack((sample_names[df.Label == 1], X_PM))\n",
    "X_N = df.loc[df['Label'] == 2, df.columns != 'Label']\n",
    "X_N = np.column_stack((sample_names[df.Label == 2], X_N))"
   ]
  },
  {
   "cell_type": "code",
   "execution_count": 0,
   "metadata": {
    "colab": {},
    "colab_type": "code",
    "id": "C5kqM-5FwVP9"
   },
   "outputs": [],
   "source": [
    "y_M = df.loc[df['Label'] == 0, df.columns == 'Label'].values\n",
    "y_PM = df.loc[df['Label'] == 1, df.columns == 'Label'].values\n",
    "y_N = df.loc[df['Label'] == 2, df.columns == 'Label'].values"
   ]
  },
  {
   "cell_type": "code",
   "execution_count": 0,
   "metadata": {
    "colab": {},
    "colab_type": "code",
    "id": "Vqo-CpLQwVQR"
   },
   "outputs": [],
   "source": [
    "X = np.concatenate((X_M, X_PM, X_N))\n",
    "y = np.concatenate((y_M, y_PM, y_N)).flatten()"
   ]
  },
  {
   "cell_type": "code",
   "execution_count": 0,
   "metadata": {
    "colab": {},
    "colab_type": "code",
    "id": "tJ9rXsCvwVQi"
   },
   "outputs": [],
   "source": [
    "print(\"Independent variables:\\n\",X)\n",
    "print(\"\\n\\nOutput variable:\\n\",y)"
   ]
  },
  {
   "cell_type": "markdown",
   "metadata": {
    "colab_type": "text",
    "id": "NIqkEtxkwVRW"
   },
   "source": [
    "# 1D-CNN"
   ]
  },
  {
   "cell_type": "code",
   "execution_count": 0,
   "metadata": {
    "colab": {},
    "colab_type": "code",
    "id": "iFhHxYb6wVRm"
   },
   "outputs": [],
   "source": [
    "from sklearn.model_selection import train_test_split\n",
    "from sklearn.preprocessing import StandardScaler"
   ]
  },
  {
   "cell_type": "code",
   "execution_count": 0,
   "metadata": {
    "colab": {},
    "colab_type": "code",
    "id": "Bk8HKMof9PyG"
   },
   "outputs": [],
   "source": [
    "X_cnn = X.reshape(X.shape[0],X.shape[1], 1)\n",
    "X_cnn = X_cnn[:, 1:]\n",
    "print(X_cnn.shape)"
   ]
  },
  {
   "cell_type": "code",
   "execution_count": 0,
   "metadata": {
    "colab": {},
    "colab_type": "code",
    "id": "fsvpSMNq9oUt"
   },
   "outputs": [],
   "source": [
    "from keras.utils import to_categorical\n",
    "y_cnn = to_categorical(y)\n",
    "print(y_cnn.shape)"
   ]
  },
  {
   "cell_type": "code",
   "execution_count": 0,
   "metadata": {
    "colab": {},
    "colab_type": "code",
    "id": "ptruvmqm5AT8"
   },
   "outputs": [],
   "source": [
    "from keras import layers\n",
    "from keras import regularizers\n",
    "from keras import optimizers\n",
    "from keras.callbacks import EarlyStopping\n",
    "from keras.layers.convolutional import Conv1D\n",
    "from keras.layers.convolutional import MaxPooling1D\n",
    "from keras.layers import GlobalAveragePooling1D\n",
    "from keras.layers import AveragePooling1D\n",
    "from keras.layers import Dense, Flatten, Dropout\n",
    "from keras.layers import BatchNormalization\n",
    "from keras.models import Sequential"
   ]
  },
  {
   "cell_type": "code",
   "execution_count": 0,
   "metadata": {
    "colab": {},
    "colab_type": "code",
    "id": "AQ_klFsTJ9L2"
   },
   "outputs": [],
   "source": [
    "number_of_features = X_cnn.shape[1]"
   ]
  },
  {
   "cell_type": "code",
   "execution_count": 0,
   "metadata": {
    "colab": {},
    "colab_type": "code",
    "id": "A9qhsGzyJp4z"
   },
   "outputs": [],
   "source": [
    "# Function to create 1D CNN model\n",
    "def create_model():\n",
    "  network = Sequential()\n",
    "\n",
    "  network.add(Conv1D(3, 16, activation='relu', input_shape=(number_of_features,1)))\n",
    "  network.add(MaxPooling1D(3))\n",
    "  network.add(BatchNormalization())\n",
    "\n",
    "  network.add(Conv1D(3, 16, activation='relu'))\n",
    "  network.add(MaxPooling1D(3))\n",
    "  network.add(BatchNormalization())\n",
    "\n",
    "  #network.add(GlobalAveragePooling1D())\n",
    "  network.add(Flatten())\n",
    "  network.add(Dropout(0.1))\n",
    "  network.add(layers.Dense(units=64, activation='relu',\n",
    "                           kernel_regularizer=regularizers.l2(0.0)))\n",
    "\n",
    "  network.add(layers.Dense(units=3, activation='softmax'))\n",
    "\n",
    "  # Compile neural network\n",
    "  opt = optimizers.Adam(lr = 1e-04) \n",
    "  network.compile(optimizer = opt,\n",
    "                  loss = 'categorical_crossentropy',\n",
    "                  metrics=['accuracy'])\n",
    "  return network"
   ]
  },
  {
   "cell_type": "code",
   "execution_count": 0,
   "metadata": {
    "colab": {},
    "colab_type": "code",
    "id": "pRHckAoWKisY"
   },
   "outputs": [],
   "source": [
    "from sklearn.model_selection import GridSearchCV\n",
    "from keras.wrappers.scikit_learn import KerasClassifier"
   ]
  },
  {
   "cell_type": "code",
   "execution_count": 0,
   "metadata": {
    "colab": {},
    "colab_type": "code",
    "id": "8TnaVN7vKXk2"
   },
   "outputs": [],
   "source": [
    "## Grid search to find optimal batch size and epochs\n",
    "# Create model\n",
    "model = KerasClassifier(build_fn = create_model, verbose = 0)\n",
    "# Define the grid search parameters\n",
    "batch_size = [8, 16, 32]\n",
    "epochs = [100, 500]\n",
    "param_grid = dict(batch_size = batch_size, epochs = epochs)\n",
    "grid = GridSearchCV(estimator = model, param_grid = param_grid)\n",
    "grid_result = grid.fit(X_cnn, y_cnn)\n",
    "# Summarize results\n",
    "print(\"Best: %f using %s\" % (grid_result.best_score_, grid_result.best_params_))\n",
    "means = grid_result.cv_results_['mean_test_score']\n",
    "stds = grid_result.cv_results_['std_test_score']\n",
    "params = grid_result.cv_results_['params']\n",
    "for mean, stdev, param in zip(means, stds, params):\n",
    "    print(\"%f (%f) with: %r\" % (mean, stdev, param))"
   ]
  }
 ],
 "metadata": {
  "colab": {
   "collapsed_sections": [],
   "name": "SudarsanEdit_GridSearch_PriyaPrajna_OralCancer_PythonCode.ipynb",
   "provenance": []
  },
  "kernelspec": {
   "display_name": "Python 3",
   "language": "python",
   "name": "python3"
  },
  "language_info": {
   "codemirror_mode": {
    "name": "ipython",
    "version": 3
   },
   "file_extension": ".py",
   "mimetype": "text/x-python",
   "name": "python",
   "nbconvert_exporter": "python",
   "pygments_lexer": "ipython3",
   "version": "3.7.7"
  }
 },
 "nbformat": 4,
 "nbformat_minor": 1
}
