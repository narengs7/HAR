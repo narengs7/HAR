{
 "cells": [
  {
   "cell_type": "code",
   "execution_count": 13,
   "metadata": {},
   "outputs": [],
   "source": [
    "import numpy as np\n",
    "import pandas as pd"
   ]
  },
  {
   "cell_type": "code",
   "execution_count": 58,
   "metadata": {},
   "outputs": [
    {
     "data": {
      "text/html": [
       "<div>\n",
       "<style scoped>\n",
       "    .dataframe tbody tr th:only-of-type {\n",
       "        vertical-align: middle;\n",
       "    }\n",
       "\n",
       "    .dataframe tbody tr th {\n",
       "        vertical-align: top;\n",
       "    }\n",
       "\n",
       "    .dataframe thead th {\n",
       "        text-align: right;\n",
       "    }\n",
       "</style>\n",
       "<table border=\"1\" class=\"dataframe\">\n",
       "  <thead>\n",
       "    <tr style=\"text-align: right;\">\n",
       "      <th></th>\n",
       "      <th>user-id</th>\n",
       "      <th>Activity</th>\n",
       "      <th>timestamp</th>\n",
       "      <th>X</th>\n",
       "      <th>Y</th>\n",
       "      <th>Z</th>\n",
       "    </tr>\n",
       "  </thead>\n",
       "  <tbody>\n",
       "    <tr>\n",
       "      <th>0</th>\n",
       "      <td>33</td>\n",
       "      <td>Jogging</td>\n",
       "      <td>49105962326000</td>\n",
       "      <td>-0.694638</td>\n",
       "      <td>12.680544</td>\n",
       "      <td>0.50395286;</td>\n",
       "    </tr>\n",
       "    <tr>\n",
       "      <th>1</th>\n",
       "      <td>33</td>\n",
       "      <td>Jogging</td>\n",
       "      <td>49106062271000</td>\n",
       "      <td>5.012288</td>\n",
       "      <td>11.264028</td>\n",
       "      <td>0.95342433;</td>\n",
       "    </tr>\n",
       "    <tr>\n",
       "      <th>2</th>\n",
       "      <td>33</td>\n",
       "      <td>Jogging</td>\n",
       "      <td>49106112167000</td>\n",
       "      <td>4.903325</td>\n",
       "      <td>10.882658</td>\n",
       "      <td>-0.08172209;</td>\n",
       "    </tr>\n",
       "    <tr>\n",
       "      <th>3</th>\n",
       "      <td>33</td>\n",
       "      <td>Jogging</td>\n",
       "      <td>49106222305000</td>\n",
       "      <td>-0.612916</td>\n",
       "      <td>18.496431</td>\n",
       "      <td>3.0237172;</td>\n",
       "    </tr>\n",
       "    <tr>\n",
       "      <th>4</th>\n",
       "      <td>33</td>\n",
       "      <td>Jogging</td>\n",
       "      <td>49106332290000</td>\n",
       "      <td>-1.184970</td>\n",
       "      <td>12.108489</td>\n",
       "      <td>7.205164;</td>\n",
       "    </tr>\n",
       "  </tbody>\n",
       "</table>\n",
       "</div>"
      ],
      "text/plain": [
       "   user-id Activity       timestamp         X          Y             Z\n",
       "0       33  Jogging  49105962326000 -0.694638  12.680544   0.50395286;\n",
       "1       33  Jogging  49106062271000  5.012288  11.264028   0.95342433;\n",
       "2       33  Jogging  49106112167000  4.903325  10.882658  -0.08172209;\n",
       "3       33  Jogging  49106222305000 -0.612916  18.496431    3.0237172;\n",
       "4       33  Jogging  49106332290000 -1.184970  12.108489     7.205164;"
      ]
     },
     "execution_count": 58,
     "metadata": {},
     "output_type": "execute_result"
    }
   ],
   "source": [
    "# load a single file as a numpy array\n",
    "df = pd.read_csv('../Data/WISDM_ar_v1.1_raw.txt',header=None,sep=\",\",error_bad_lines=False,names=[\"user-id\",\"Activity\",\"timestamp\",\"X\",\"Y\",\"Z\"])\n",
    "df.head()"
   ]
  },
  {
   "cell_type": "code",
   "execution_count": 76,
   "metadata": {},
   "outputs": [],
   "source": [
    "df['Z'].replace(regex=True, inplace=True,to_replace=r';',value=r'')\n",
    "df['Z'] = df['Z'].astype(np.float64)"
   ]
  },
  {
   "cell_type": "code",
   "execution_count": 77,
   "metadata": {},
   "outputs": [],
   "source": [
    "# Differentiate between test set and training set\n",
    "df_test = df[df['user-id'] > 28]\n",
    "df_train = df[df['user-id'] <= 28]"
   ]
  },
  {
   "cell_type": "code",
   "execution_count": 78,
   "metadata": {},
   "outputs": [],
   "source": [
    "mean_val = df_test.iloc[:,-3:].mean(axis=0)"
   ]
  },
  {
   "cell_type": "code",
   "execution_count": 88,
   "metadata": {},
   "outputs": [
    {
     "data": {
      "text/plain": [
       "user-id      834781\n",
       "Activity     834781\n",
       "timestamp    834781\n",
       "X            834781\n",
       "Y            834781\n",
       "Z            834781\n",
       "dtype: int64"
      ]
     },
     "execution_count": 88,
     "metadata": {},
     "output_type": "execute_result"
    }
   ],
   "source": [
    "df_train.isnull().count()"
   ]
  },
  {
   "cell_type": "code",
   "execution_count": 92,
   "metadata": {},
   "outputs": [
    {
     "data": {
      "text/html": [
       "<div>\n",
       "<style scoped>\n",
       "    .dataframe tbody tr th:only-of-type {\n",
       "        vertical-align: middle;\n",
       "    }\n",
       "\n",
       "    .dataframe tbody tr th {\n",
       "        vertical-align: top;\n",
       "    }\n",
       "\n",
       "    .dataframe thead th {\n",
       "        text-align: right;\n",
       "    }\n",
       "</style>\n",
       "<table border=\"1\" class=\"dataframe\">\n",
       "  <thead>\n",
       "    <tr style=\"text-align: right;\">\n",
       "      <th></th>\n",
       "      <th>user-id</th>\n",
       "      <th>Activity</th>\n",
       "      <th>timestamp</th>\n",
       "      <th>X</th>\n",
       "      <th>Y</th>\n",
       "      <th>Z</th>\n",
       "    </tr>\n",
       "  </thead>\n",
       "  <tbody>\n",
       "    <tr>\n",
       "      <th>8489</th>\n",
       "      <td>17</td>\n",
       "      <td>Walking</td>\n",
       "      <td>57869902574000</td>\n",
       "      <td>0.572055</td>\n",
       "      <td>9.806650</td>\n",
       "      <td>-0.531194</td>\n",
       "    </tr>\n",
       "    <tr>\n",
       "      <th>8490</th>\n",
       "      <td>17</td>\n",
       "      <td>Walking</td>\n",
       "      <td>57870012316000</td>\n",
       "      <td>-0.000000</td>\n",
       "      <td>10.188020</td>\n",
       "      <td>-0.572055</td>\n",
       "    </tr>\n",
       "    <tr>\n",
       "      <th>8491</th>\n",
       "      <td>17</td>\n",
       "      <td>Walking</td>\n",
       "      <td>57870122301000</td>\n",
       "      <td>-0.231546</td>\n",
       "      <td>9.847511</td>\n",
       "      <td>-0.694638</td>\n",
       "    </tr>\n",
       "    <tr>\n",
       "      <th>8492</th>\n",
       "      <td>17</td>\n",
       "      <td>Walking</td>\n",
       "      <td>57870222246000</td>\n",
       "      <td>0.149824</td>\n",
       "      <td>10.079058</td>\n",
       "      <td>-0.503953</td>\n",
       "    </tr>\n",
       "    <tr>\n",
       "      <th>8493</th>\n",
       "      <td>17</td>\n",
       "      <td>Walking</td>\n",
       "      <td>57870332292000</td>\n",
       "      <td>0.149824</td>\n",
       "      <td>10.147159</td>\n",
       "      <td>-0.612916</td>\n",
       "    </tr>\n",
       "    <tr>\n",
       "      <th>...</th>\n",
       "      <td>...</td>\n",
       "      <td>...</td>\n",
       "      <td>...</td>\n",
       "      <td>...</td>\n",
       "      <td>...</td>\n",
       "      <td>...</td>\n",
       "    </tr>\n",
       "    <tr>\n",
       "      <th>1098199</th>\n",
       "      <td>19</td>\n",
       "      <td>Sitting</td>\n",
       "      <td>131623331483000</td>\n",
       "      <td>9.000000</td>\n",
       "      <td>-1.570000</td>\n",
       "      <td>1.690000</td>\n",
       "    </tr>\n",
       "    <tr>\n",
       "      <th>1098200</th>\n",
       "      <td>19</td>\n",
       "      <td>Sitting</td>\n",
       "      <td>131623371431000</td>\n",
       "      <td>9.040000</td>\n",
       "      <td>-1.460000</td>\n",
       "      <td>1.730000</td>\n",
       "    </tr>\n",
       "    <tr>\n",
       "      <th>1098201</th>\n",
       "      <td>19</td>\n",
       "      <td>Sitting</td>\n",
       "      <td>131623411592000</td>\n",
       "      <td>9.080000</td>\n",
       "      <td>-1.380000</td>\n",
       "      <td>1.690000</td>\n",
       "    </tr>\n",
       "    <tr>\n",
       "      <th>1098202</th>\n",
       "      <td>19</td>\n",
       "      <td>Sitting</td>\n",
       "      <td>131623491487000</td>\n",
       "      <td>9.000000</td>\n",
       "      <td>-1.460000</td>\n",
       "      <td>1.730000</td>\n",
       "    </tr>\n",
       "    <tr>\n",
       "      <th>1098203</th>\n",
       "      <td>19</td>\n",
       "      <td>Sitting</td>\n",
       "      <td>131623531465000</td>\n",
       "      <td>8.880000</td>\n",
       "      <td>-1.330000</td>\n",
       "      <td>1.610000</td>\n",
       "    </tr>\n",
       "  </tbody>\n",
       "</table>\n",
       "<p>834780 rows × 6 columns</p>\n",
       "</div>"
      ],
      "text/plain": [
       "         user-id Activity        timestamp         X          Y         Z\n",
       "8489          17  Walking   57869902574000  0.572055   9.806650 -0.531194\n",
       "8490          17  Walking   57870012316000 -0.000000  10.188020 -0.572055\n",
       "8491          17  Walking   57870122301000 -0.231546   9.847511 -0.694638\n",
       "8492          17  Walking   57870222246000  0.149824  10.079058 -0.503953\n",
       "8493          17  Walking   57870332292000  0.149824  10.147159 -0.612916\n",
       "...          ...      ...              ...       ...        ...       ...\n",
       "1098199       19  Sitting  131623331483000  9.000000  -1.570000  1.690000\n",
       "1098200       19  Sitting  131623371431000  9.040000  -1.460000  1.730000\n",
       "1098201       19  Sitting  131623411592000  9.080000  -1.380000  1.690000\n",
       "1098202       19  Sitting  131623491487000  9.000000  -1.460000  1.730000\n",
       "1098203       19  Sitting  131623531465000  8.880000  -1.330000  1.610000\n",
       "\n",
       "[834780 rows x 6 columns]"
      ]
     },
     "execution_count": 92,
     "metadata": {},
     "output_type": "execute_result"
    }
   ],
   "source": [
    "df_train.dropna()"
   ]
  },
  {
   "cell_type": "code",
   "execution_count": 97,
   "metadata": {},
   "outputs": [],
   "source": [
    "from sklearn.preprocessing import StandardScaler\n",
    "sc = StandardScaler()\n",
    "x_train = sc.fit_transform(df_train[[\"X\",\"Y\",\"Z\"]])\n",
    "\n",
    "# # normalization\n",
    "# tmp = df_train[[\"X\",\"Y\",\"Z\"]].copy()\n",
    "# mu = tmp.mean()\n",
    "# sigma = [np.std(tmp[col]) for col in [\"X\",\"Y\",\"Z\"]]\n",
    "# tmp\n",
    "# x_train = (tmp-mu)/sigma"
   ]
  },
  {
   "cell_type": "code",
   "execution_count": 141,
   "metadata": {},
   "outputs": [],
   "source": [
    "from sklearn.preprocessing import LabelEncoder\n",
    "from keras.utils import np_utils\n",
    "le = LabelEncoder()\n",
    "y_train = le.fit_transform(df_train[\"Activity\"])"
   ]
  },
  {
   "cell_type": "code",
   "execution_count": 152,
   "metadata": {},
   "outputs": [
    {
     "name": "stdout",
     "output_type": "stream",
     "text": [
      "length 834781\n"
     ]
    },
    {
     "name": "stderr",
     "output_type": "stream",
     "text": [
      "IOPub data rate exceeded.\n",
      "The notebook server will temporarily stop sending output\n",
      "to the client in order to avoid crashing it.\n",
      "To change this limit, set the config variable\n",
      "`--NotebookApp.iopub_data_rate_limit`.\n",
      "\n",
      "Current values:\n",
      "NotebookApp.iopub_data_rate_limit=1000000.0 (bytes/sec)\n",
      "NotebookApp.rate_limit_window=3.0 (secs)\n",
      "\n"
     ]
    },
    {
     "data": {
      "text/plain": [
       "(array([[[ 0.01638006, -0.06534306, -0.09842147],\n",
       "         [-0.04393939, -0.04393939,  0.02221743],\n",
       "         [-0.04977675, -0.08090937, -0.07701779],\n",
       "         ...,\n",
       "         [-0.7818222 , -0.03400549, -0.51091504],\n",
       "         [-0.14688349, -0.4714077 , -0.59839547],\n",
       "         [-0.14688349,  0.107092  ,  0.9339233 ]],\n",
       " \n",
       "        [[ 0.14285633,  0.15453106,  0.27906156],\n",
       "         [ 0.4755862 ,  0.3004652 ,  0.15453106],\n",
       "         [ 0.1817721 ,  0.05529584, -0.05366833],\n",
       "         ...,\n",
       "         [-0.9567831 , -0.32184437, -0.6858759 ],\n",
       "         [-0.23436393,  0.0111457 , -0.9313855 ],\n",
       "         [-0.22589807, -0.33595413,  1.0129379 ]],\n",
       " \n",
       "        [[ 0.22457945,  0.27906156, -0.1801446 ],\n",
       "         [ 0.27906156,  0.7227013 ,  0.36078465],\n",
       "         [ 0.08253689,  0.1973384 ,  0.04362111],\n",
       "         ...,\n",
       "         [-0.9483173 , -0.12995179, -0.05940304],\n",
       "         [-0.16945909, -0.4714077 , -0.28798097],\n",
       "         [-0.14688349,  0.4259723 ,  1.3543938 ]],\n",
       " \n",
       "        ...,\n",
       " \n",
       "        [[ 1.1818156 ,  1.2146733 ,  1.1932443 ],\n",
       "         [ 1.2032444 ,  1.2146733 ,  1.2089589 ],\n",
       "         [ 1.2146733 ,  1.2089589 ,  1.2089589 ],\n",
       "         ...,\n",
       "         [ 0.36933076,  0.37761822,  0.37761822],\n",
       "         [ 0.36933076,  0.3610433 ,  0.37761822],\n",
       "         [ 0.3610433 ,  0.36933076,  0.3610433 ]],\n",
       " \n",
       "        [[ 1.2089589 ,  1.2032444 ,  1.2032444 ],\n",
       "         [ 1.2146733 ,  1.2032444 ,  1.2089589 ],\n",
       "         [ 1.2032444 ,  1.2032444 ,  1.2146733 ],\n",
       "         ...,\n",
       "         [ 0.40040872,  0.36933076,  0.3610433 ],\n",
       "         [ 0.3610433 ,  0.38590568,  0.36933076],\n",
       "         [ 0.37761822,  0.36933076,  0.3610433 ]],\n",
       " \n",
       "        [[ 1.2089589 ,  1.2089589 ,  1.2032444 ],\n",
       "         [ 1.2032444 ,  1.1989588 ,  1.1989588 ],\n",
       "         [ 1.2089589 ,  1.2089589 ,  1.2089589 ],\n",
       "         ...,\n",
       "         [ 0.3610433 ,  0.36933076,  0.35275584],\n",
       "         [ 0.36933076,  0.40040872,  0.37761822],\n",
       "         [ 0.36933076,  0.38590568,  0.40040872]]], dtype=float32),\n",
       " array([5, 5, 5, ..., 2, 2, 2]))"
      ]
     },
     "execution_count": 152,
     "metadata": {},
     "output_type": "execute_result"
    }
   ],
   "source": [
    "from scipy import stats\n",
    "def create_segments_and_labels(x,y, time_steps=80, step=40, label_name=\"\"):\n",
    "    # x, y, z acceleration as features\n",
    "    N_FEATURES = 3\n",
    "    # Number of steps to advance in each iteration (for me, it should always\n",
    "    # be equal to the time_steps in order to have no overlap between segments)\n",
    "    # step = time_steps\n",
    "    segments = []\n",
    "    labels = []\n",
    "    print(\"length\",len(x))\n",
    "    for i in range(0, len(x) - time_steps, step):\n",
    "        xs = x[i: i + time_steps,0]\n",
    "        ys = x[i: i + time_steps,1]\n",
    "        zs = x[i: i + time_steps,2]\n",
    "        # Retrieve the most often used label in this segment\n",
    "        label = stats.mode(y[i: i + time_steps])[0][0]\n",
    "        segments.append([xs, ys, zs])\n",
    "        labels.append(label)\n",
    "    print(segments)\n",
    "    # Bring the segments into a better shape\n",
    "    reshaped_segments = np.asarray(segments, dtype= np.float32).reshape(-1, time_steps, N_FEATURES)\n",
    "    labels = np.asarray(labels)\n",
    "\n",
    "    return reshaped_segments, labels\n",
    "create_segments_and_labels(x_train,y_train)"
   ]
  },
  {
   "cell_type": "code",
   "execution_count": 131,
   "metadata": {},
   "outputs": [
    {
     "data": {
      "text/plain": [
       "array([0.3935874 , 0.44952052, 0.39958023, 0.43353976, 0.4435277 ,\n",
       "       0.41556114, 0.42155396, 0.42754693, 0.43953258, 0.42155396])"
      ]
     },
     "execution_count": 131,
     "metadata": {},
     "output_type": "execute_result"
    }
   ],
   "source": [
    "\n",
    "num_classes = le.classes_.size\n",
    "y_train = np_utils.to_categorical(y_train, num_classes) # alternative to one hot encoding"
   ]
  },
  {
   "cell_type": "code",
   "execution_count": null,
   "metadata": {},
   "outputs": [],
   "source": []
  },
  {
   "cell_type": "markdown",
   "metadata": {},
   "source": [
    "# Creating testing dataset"
   ]
  },
  {
   "cell_type": "code",
   "execution_count": null,
   "metadata": {},
   "outputs": [],
   "source": []
  }
 ],
 "metadata": {
  "kernelspec": {
   "display_name": "Python 3",
   "language": "python",
   "name": "python3"
  },
  "language_info": {
   "codemirror_mode": {
    "name": "ipython",
    "version": 3
   },
   "file_extension": ".py",
   "mimetype": "text/x-python",
   "name": "python",
   "nbconvert_exporter": "python",
   "pygments_lexer": "ipython3",
   "version": "3.7.7"
  }
 },
 "nbformat": 4,
 "nbformat_minor": 4
}
